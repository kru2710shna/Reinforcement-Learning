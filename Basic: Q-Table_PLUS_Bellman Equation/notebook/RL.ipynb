{
  "nbformat": 4,
  "nbformat_minor": 0,
  "metadata": {
    "colab": {
      "provenance": []
    },
    "kernelspec": {
      "name": "python3",
      "display_name": "Python 3"
    },
    "language_info": {
      "name": "python"
    }
  },
  "cells": [
    {
      "cell_type": "markdown",
      "source": [
        "# Setup Goal and Env"
      ],
      "metadata": {
        "id": "AThcl9CY-JLf"
      }
    },
    {
      "cell_type": "code",
      "source": [
        "import numpy as np\n",
        "import random\n",
        "from typing import Tuple, List\n",
        "\n",
        "\n",
        "# define Grid size\n",
        "GRID_SIZE = 3\n",
        "START = (0,0)\n",
        "GOAL = (2,2)\n",
        "OBSTACLE = (1,1)\n",
        "\n",
        "# define actions\n",
        "\n",
        "ACTIONS = [\n",
        "    (1,0),\n",
        "    (0,1),\n",
        "    (-1,0),\n",
        "    (0,-1)\n",
        "]"
      ],
      "metadata": {
        "id": "hBa2jeLW-NJr"
      },
      "execution_count": 15,
      "outputs": []
    },
    {
      "cell_type": "code",
      "source": [
        "def is_valid(state: Tuple[int, int]) -> bool:\n",
        "  return (0 <= state[0] < GRID_SIZE and\n",
        "          0 <= state[1] < GRID_SIZE and\n",
        "          state != OBSTACLE)"
      ],
      "metadata": {
        "id": "lMgk6uRe-qAm"
      },
      "execution_count": 16,
      "outputs": []
    },
    {
      "cell_type": "code",
      "source": [
        "# get next state\n",
        "\n",
        "def get_next_state(state: Tuple[int, int] , action: Tuple[int, int]) -> Tuple[int, int]:\n",
        "  next_state = (state[0] + action[0], state[1] + action[1])\n",
        "  return next_state if is_valid(next_state) else state"
      ],
      "metadata": {
        "id": "eqFg6Qy6-_JT"
      },
      "execution_count": 23,
      "outputs": []
    },
    {
      "cell_type": "markdown",
      "source": [
        "# Define Q Learning Parameter"
      ],
      "metadata": {
        "id": "Pmrsj8QQ_yep"
      }
    },
    {
      "cell_type": "code",
      "source": [
        "EPSILON = 0.3 # Exploration Rate, probablity of choosing random action instead of best. Means choose 30% of random number and choose 70% best known action. EXPLORATION VS EXPLOITATION\n",
        "ALPHA = 0.3 # Learning rate, HOW QUICK ADAPT NEW INFO\n",
        "GAMMA = 0.99 # Discount Factor , how much we push the reward, if reward and and it is marked 99% true on what they are doing. Close to one means agent cares long term = short term reward. ENCOURAGEMENT\n",
        "EPISODES = 10000 # epoches. chnaces to learn"
      ],
      "metadata": {
        "id": "tUnQT2uP_uJ4"
      },
      "execution_count": 25,
      "outputs": []
    },
    {
      "cell_type": "markdown",
      "source": [
        "# CREATING AGENT REWARD"
      ],
      "metadata": {
        "id": "otxxoajxBIU3"
      }
    },
    {
      "cell_type": "code",
      "source": [
        "def get_reard(state: Tuple[int, int], next_state: Tuple[int, int]) -> int:\n",
        "  if next_state == GOAL:\n",
        "    return 100\n",
        "  elif next_state == OBSTACLE and next_state == state:\n",
        "    return -10\n",
        "  else:\n",
        "    return -1"
      ],
      "metadata": {
        "id": "52rwQ9WmBH1H"
      },
      "execution_count": 19,
      "outputs": []
    },
    {
      "cell_type": "markdown",
      "source": [
        "# CHOOSING ACTIONS, EXPLORATION VS EXPLOITATION"
      ],
      "metadata": {
        "id": "aa8J8lx4B16z"
      }
    },
    {
      "cell_type": "code",
      "source": [
        "def choose_action(state: Tuple[int, int], q_table: np.array) -> tuple[int, int]:\n",
        "  if random.uniform(0,1) < EPSILON:\n",
        "    return random.choice(ACTIONS)\n",
        "\n",
        "  else:\n",
        "    return ACTIONS[np.argmax(q_table[state])]\n"
      ],
      "metadata": {
        "id": "L5w9uGaUB05y"
      },
      "execution_count": 20,
      "outputs": []
    },
    {
      "cell_type": "markdown",
      "source": [
        "# Q Vlaue Learning from The Bellman Equation"
      ],
      "metadata": {
        "id": "k8EaCGNBQOvD"
      }
    },
    {
      "cell_type": "code",
      "source": [
        "def update_q_table(q_table:np.ndarray, state: Tuple[int, int] , action: Tuple[int, int], reward:int , next_state: Tuple[int, int]) -> None:\n",
        "\n",
        "  action_idx = ACTIONS.index(action)\n",
        "  q_table[state][action_idx] += ALPHA * (reward + GAMMA * np.max(q_table[next_state]) - q_table[state][action_idx])\n",
        "\n",
        "# GAMMA  -> 1 if future reward be valued to immediate values\n",
        "# GAMMA  -> 0 the agent would only care about the immediate values\n",
        "# GAMMA  -> 0.99. Balance , both current and immediate values"
      ],
      "metadata": {
        "id": "uWto4AJKNWHB"
      },
      "execution_count": 21,
      "outputs": []
    },
    {
      "cell_type": "markdown",
      "source": [
        "# Training Script for making Q Table"
      ],
      "metadata": {
        "id": "-X_T5q4aRh5l"
      }
    },
    {
      "cell_type": "code",
      "source": [
        "def train_agent() -> np.ndarray:\n",
        "\n",
        "  # create an empty table for Q as same size as Input Table Grid\n",
        "  q_table  = np.zeros((GRID_SIZE, GRID_SIZE, len(ACTIONS)))\n",
        "\n",
        "  # start the current state at 0\n",
        "  for _ in range(EPISODES):\n",
        "    state = START\n",
        "\n",
        "    # choose an action to take based on current state and Q Table\n",
        "\n",
        "    while state != GOAL:\n",
        "\n",
        "      action = choose_action(state, q_table)\n",
        "\n",
        "      # Determine next state based on currenr actions chosen\n",
        "\n",
        "      next_state = get_next_state(state , action)\n",
        "\n",
        "      # calculate reward based on action\n",
        "\n",
        "      reward = get_reard(state, next_state)\n",
        "\n",
        "      # Update the Q Table for the currrent action state pair\n",
        "\n",
        "      update_q_table(q_table, state, action , reward, next_state)\n",
        "\n",
        "      # Move to next state\n",
        "      state = next_state\n",
        "\n",
        "  return q_table\n",
        "\n",
        "\n",
        "q_table = train_agent()\n",
        "\n",
        "\n"
      ],
      "metadata": {
        "id": "5FzqORQDRAD5"
      },
      "execution_count": 36,
      "outputs": []
    },
    {
      "cell_type": "code",
      "source": [
        "q_table"
      ],
      "metadata": {
        "colab": {
          "base_uri": "https://localhost:8080/"
        },
        "id": "yH-J2_0CTLHV",
        "outputId": "de752cac-a304-497e-d0b3-0f7af68a8bcc"
      },
      "execution_count": 37,
      "outputs": [
        {
          "output_type": "execute_result",
          "data": {
            "text/plain": [
              "array([[[ 94.0598  ,  94.0598  ,  92.119202,  92.119202],\n",
              "        [ 94.0598  ,  96.02    ,  94.0598  ,  92.119202],\n",
              "        [ 98.      ,  96.02    ,  96.02    ,  94.0598  ]],\n",
              "\n",
              "       [[ 96.02    ,  94.0598  ,  92.119202,  94.0598  ],\n",
              "        [  0.      ,   0.      ,   0.      ,   0.      ],\n",
              "        [100.      ,  98.      ,  96.02    ,  98.      ]],\n",
              "\n",
              "       [[ 96.02    ,  98.      ,  94.0598  ,  96.02    ],\n",
              "        [ 98.      , 100.      ,  98.      ,  96.02    ],\n",
              "        [  0.      ,   0.      ,   0.      ,   0.      ]]])"
            ]
          },
          "metadata": {},
          "execution_count": 37
        }
      ]
    },
    {
      "cell_type": "code",
      "source": [
        "# =========================\n",
        "# Pretty Q-table printers\n",
        "# =========================\n",
        "\n",
        "# Maps your ACTIONS order to symbols (down, right, up, left as you defined)\n",
        "ACTION_SYMBOLS = {\n",
        "    (1, 0):  \"v\",   # down\n",
        "    (0, 1):  \">\",   # right\n",
        "    (-1, 0): \"^\",   # up\n",
        "    (0, -1): \"<\",   # left\n",
        "}\n",
        "\n",
        "def _coord_list(grid_size: int):\n",
        "    # Header order: (0,0)|(0,1)|(0,2)|(1,0)|... like your screenshot\n",
        "    coords = []\n",
        "    for r in range(grid_size):\n",
        "        for c in range(grid_size):\n",
        "            coords.append((r, c))\n",
        "    return coords\n",
        "\n",
        "def visualize_q_table_detailed(q_table, grid_size, goal, obstacle=None, width=10):\n",
        "    \"\"\"\n",
        "    Prints the 'Detailed Q-table Grid' exactly like the screenshot:\n",
        "    - header with coordinates across\n",
        "    - one row per ACTION showing that action's Q-values at every state\n",
        "    \"\"\"\n",
        "    obstacle = set([] if obstacle is None else (obstacle if isinstance(obstacle, (list, set, tuple)) else [obstacle]))\n",
        "    coords = _coord_list(grid_size)\n",
        "\n",
        "    # Header\n",
        "    print(\"Detailed Q-table Grid:\")\n",
        "    header = \"| \" + \" | \".join(f\"({r},{c})\".center(width) for (r,c) in coords) + \" |\"\n",
        "    line = \"-\" * len(header)\n",
        "    print(line)\n",
        "    print(header)\n",
        "    print(line)\n",
        "\n",
        "    # For each action row, print values per state in header order\n",
        "    for a_idx, a in enumerate(ACTIONS):\n",
        "        row_cells = []\n",
        "        for (r, c) in coords:\n",
        "            pos = (r, c)\n",
        "            if pos == goal:\n",
        "                cell = \"GOAL\".center(width)\n",
        "            elif pos in obstacle:\n",
        "                cell = \"OBSTACLE\".center(width)\n",
        "            else:\n",
        "                cell = f\"{q_table[r, c, a_idx]:.2f}\".rjust(width)\n",
        "            row_cells.append(cell)\n",
        "        print(\" \" + ACTION_SYMBOLS.get(a, \"?\") + \" | \" + \" | \".join(row_cells) + \" |\")\n",
        "        print(line)\n",
        "\n",
        "def visualize_best_actions_grid(q_table, grid_size, goal, obstacle=None, width=10, with_values=True):\n",
        "    \"\"\"\n",
        "    Prints the 'Best Actions Grid' like the screenshot:\n",
        "    - 3 (or grid_size) rows\n",
        "    - each cell shows best action and its value (or just label for GOAL/OBSTACLE)\n",
        "    \"\"\"\n",
        "    obstacle = set([] if obstacle is None else (obstacle if isinstance(obstacle, (list, set, tuple)) else [obstacle]))\n",
        "\n",
        "    def best_cell(r, c):\n",
        "        pos = (r, c)\n",
        "        if pos == goal:\n",
        "            return \"GOAL\".center(width)\n",
        "        if pos in obstacle:\n",
        "            return \"OBSTACLE\".center(width)\n",
        "        idx = int(np.argmax(q_table[r, c]))\n",
        "        sym = ACTION_SYMBOLS.get(ACTIONS[idx], \"?\")\n",
        "        if with_values:\n",
        "            return f\"{sym}: {q_table[r,c,idx]:.2f}\".rjust(width)\n",
        "        return f\"{sym}\".center(width)\n",
        "\n",
        "    print(\"\\nBest Actions Grid:\")\n",
        "    for r in range(grid_size):\n",
        "        row = \"| \" + \" | \".join(best_cell(r, c) for c in range(grid_size)) + \" |\"\n",
        "        line = \"-\" * len(row)\n",
        "        print(line)\n",
        "        print(row)\n",
        "    print(line)\n"
      ],
      "metadata": {
        "id": "Bh8WbGVnUR1n"
      },
      "execution_count": 38,
      "outputs": []
    },
    {
      "cell_type": "code",
      "source": [
        "visualize_q_table_detailed(q_table, GRID_SIZE, GOAL, obstacle=OBSTACLE)\n",
        "visualize_best_actions_grid(q_table, GRID_SIZE, GOAL, obstacle=OBSTACLE, with_values=True)\n"
      ],
      "metadata": {
        "colab": {
          "base_uri": "https://localhost:8080/"
        },
        "id": "wiTk62gVU4Nf",
        "outputId": "08eec461-7676-41d9-ade1-422bef762407"
      },
      "execution_count": 39,
      "outputs": [
        {
          "output_type": "stream",
          "name": "stdout",
          "text": [
            "Detailed Q-table Grid:\n",
            "----------------------------------------------------------------------------------------------------------------------\n",
            "|   (0,0)    |   (0,1)    |   (0,2)    |   (1,0)    |   (1,1)    |   (1,2)    |   (2,0)    |   (2,1)    |   (2,2)    |\n",
            "----------------------------------------------------------------------------------------------------------------------\n",
            " v |      94.06 |      94.06 |      98.00 |      96.02 |       0.00 |     100.00 |      96.02 |      98.00 |    GOAL    |\n",
            "----------------------------------------------------------------------------------------------------------------------\n",
            " > |      94.06 |      96.02 |      96.02 |      94.06 |       0.00 |      98.00 |      98.00 |     100.00 |    GOAL    |\n",
            "----------------------------------------------------------------------------------------------------------------------\n",
            " ^ |      92.12 |      94.06 |      96.02 |      92.12 |       0.00 |      96.02 |      94.06 |      98.00 |    GOAL    |\n",
            "----------------------------------------------------------------------------------------------------------------------\n",
            " < |      92.12 |      92.12 |      94.06 |      94.06 |       0.00 |      98.00 |      96.02 |      96.02 |    GOAL    |\n",
            "----------------------------------------------------------------------------------------------------------------------\n",
            "\n",
            "Best Actions Grid:\n",
            "----------------------------------------\n",
            "|   v: 94.06 |   >: 96.02 |   v: 98.00 |\n",
            "----------------------------------------\n",
            "|   v: 96.02 |    v: 0.00 |  v: 100.00 |\n",
            "----------------------------------------\n",
            "|   >: 98.00 |  >: 100.00 |    GOAL    |\n",
            "----------------------------------------\n"
          ]
        }
      ]
    },
    {
      "cell_type": "code",
      "source": [
        "# === Q-learning + Grid Visualization (3x3) ===\n",
        "import numpy as np, random\n",
        "import matplotlib.pyplot as plt\n",
        "from matplotlib.patches import Rectangle\n",
        "\n",
        "# --------- Environment ----------\n",
        "GRID_SIZE = 3\n",
        "START = (0,0)\n",
        "GOAL = (2,2)\n",
        "OBSTACLE = (1,1)\n",
        "\n",
        "ACTIONS = [(1,0),(0,1),(-1,0),(0,-1)]  # down, right, up, left\n",
        "ACTION_SYMBOLS = {(1,0):\"↓\", (0,1):\"→\", (-1,0):\"↑\", (0,-1):\"←\"}\n",
        "\n",
        "def is_valid(s):\n",
        "    return (0 <= s[0] < GRID_SIZE) and (0 <= s[1] < GRID_SIZE) and (s != OBSTACLE)\n",
        "\n",
        "def get_next_state(s, a):\n",
        "    ns = (s[0]+a[0], s[1]+a[1])\n",
        "    return ns if is_valid(ns) else s\n",
        "\n",
        "# --------- Q-learning ----------\n",
        "EPSILON = 0.3      # exploration\n",
        "ALPHA   = 0.3      # learning rate\n",
        "GAMMA   = 0.99     # discount\n",
        "EPISODES = 8000\n",
        "MAX_STEPS = 50\n",
        "\n",
        "def get_reward(s, ns):\n",
        "    if ns == GOAL: return 100\n",
        "    if ns == s and s != GOAL: return -10   # bumping into wall/obstacle\n",
        "    return -1                               # step cost\n",
        "\n",
        "def choose_action(s, q):\n",
        "    if random.random() < EPSILON:\n",
        "        return random.choice(ACTIONS)\n",
        "    return ACTIONS[int(np.argmax(q[s]))]\n",
        "\n",
        "def update_q(q, s, a, r, ns):\n",
        "    ai = ACTIONS.index(a)\n",
        "    q[s][ai] += ALPHA * (r + GAMMA * np.max(q[ns]) - q[s][ai])\n",
        "\n",
        "def train():\n",
        "    q = np.zeros((GRID_SIZE, GRID_SIZE, len(ACTIONS)), dtype=float)\n",
        "    for _ in range(EPISODES):\n",
        "        s = START\n",
        "        for _ in range(MAX_STEPS):\n",
        "            if s == GOAL: break\n",
        "            a = choose_action(s, q)\n",
        "            ns = get_next_state(s, a)\n",
        "            r = get_reward(s, ns)\n",
        "            update_q(q, s, a, r, ns)\n",
        "            s = ns\n",
        "    return q\n",
        "\n",
        "# Train (or comment this out if you already have q_table)\n",
        "q_table = train()\n",
        "\n",
        "# --------- Visualization ----------\n",
        "def visualize_policy_grid(q_table, start, goal, obstacle, title=\"Visualization\"):\n",
        "    fig, ax = plt.subplots(figsize=(4,4))   # single plot, no seaborn\n",
        "\n",
        "    # Colors\n",
        "    col_start = \"#cfe8ff\"   # light blue\n",
        "    col_goal  = \"#cdeecb\"   # light green\n",
        "    col_obst  = \"#f7c9cc\"   # light red\n",
        "    col_cell  = \"#faefc8\"   # light yellow\n",
        "    col_border = \"#6b7280\"  # gray border\n",
        "    col_text   = \"#2f2f2f\"\n",
        "\n",
        "    # Draw cells\n",
        "    for r in range(GRID_SIZE):\n",
        "        for c in range(GRID_SIZE):\n",
        "            # flip y so (0,0) appears top-left visually\n",
        "            xy = (c, GRID_SIZE-1-r)\n",
        "            pos = (r,c)\n",
        "\n",
        "            if pos == start:   color = col_start\n",
        "            elif pos == goal:  color = col_goal\n",
        "            elif pos == obstacle: color = col_obst\n",
        "            else:              color = col_cell\n",
        "\n",
        "            ax.add_patch(Rectangle(xy, 1, 1, facecolor=color, edgecolor=col_border, linewidth=2))\n",
        "\n",
        "            # Centered label\n",
        "            cx, cy = xy[0] + 0.5, xy[1] + 0.55\n",
        "            if pos == start:\n",
        "                ax.text(cx, cy, \"S\", ha=\"center\", va=\"center\", fontsize=20, weight=\"bold\", color=col_text)\n",
        "            elif pos == goal:\n",
        "                ax.text(cx, cy, \"G\", ha=\"center\", va=\"center\", fontsize=20, weight=\"bold\", color=col_text)\n",
        "            elif pos == obstacle:\n",
        "                ax.text(cx, cy, \"X\", ha=\"center\", va=\"center\", fontsize=20, weight=\"bold\", color=col_text)\n",
        "            else:\n",
        "                best_idx = int(np.argmax(q_table[r,c]))\n",
        "                a = ACTIONS[best_idx]\n",
        "                sym = ACTION_SYMBOLS[a]\n",
        "                ax.text(cx, cy, sym, ha=\"center\", va=\"center\", fontsize=18, weight=\"bold\", color=col_text)\n",
        "\n",
        "    ax.set_xlim(0, GRID_SIZE)\n",
        "    ax.set_ylim(0, GRID_SIZE)\n",
        "    ax.set_xticks([]); ax.set_yticks([])\n",
        "    ax.set_aspect(\"equal\")\n",
        "    ax.set_title(title, pad=10)\n",
        "\n",
        "    # Optional mini legend\n",
        "    y0 = -0.35\n",
        "    ax.text(0, y0, \"S: Start (0,0)   G: Goal (2,2)   X: Obstacle (1,1)   Arrows: learned policy\", fontsize=9)\n",
        "    plt.tight_layout()\n",
        "    plt.show()\n",
        "\n",
        "# Render\n",
        "visualize_policy_grid(q_table, START, GOAL, OBSTACLE)\n"
      ],
      "metadata": {
        "colab": {
          "base_uri": "https://localhost:8080/",
          "height": 333
        },
        "id": "6mOaGaG4U5jg",
        "outputId": "2a11370f-ef68-4656-b059-a2d10a333a0d"
      },
      "execution_count": 40,
      "outputs": [
        {
          "output_type": "display_data",
          "data": {
            "text/plain": [
              "<Figure size 400x400 with 1 Axes>"
            ],
            "image/png": "[encoded data removed]"
          },
          "metadata": {}
        }
      ]
    },
    {
      "cell_type": "code",
      "source": [],
      "metadata": {
        "id": "HNpe-MaJU600"
      },
      "execution_count": null,
      "outputs": []
    }
  ]
}